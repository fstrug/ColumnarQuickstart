{
 "cells": [
  {
   "cell_type": "code",
   "execution_count": 1,
   "id": "5b3074c4-5f87-411e-89f6-5c8aa95db5b8",
   "metadata": {},
   "outputs": [],
   "source": [
    "#Set up notebook\n",
    "import awkward as ak\n",
    "import uproot\n",
    "import numpy as np"
   ]
  },
  {
   "cell_type": "markdown",
   "id": "ee8c9d3e-3602-4181-b2f6-11c1b9518fbf",
   "metadata": {},
   "source": [
    "# Advanced Analysis Techniques\n",
    "Sometimes you will need to perform a calculation that is not straightforward to implement. The following examples can be used as inspiration for solving trickier problems where the basic techniques are not enough. Awkward array has a wide range of functionality that may not be obvious where it is helpful.\n",
    "\n",
    "## SUSY ISR Jet Finding Algorithm\n",
    "From the SUSY run 2 stop search, there was as need to calculate whether an event contained an ISR jet subject to some quality criteria. The problem is defined as follows.\n",
    "\n",
    "An ISR jet is the highest pT jet in an event with $P_T > 200 GeV$, $|\\eta| < 2.4$, is not tagged as a b jet, it's 2 leading subjets are not tagged as b jets, and $|Jet_{\\phi} - MET_{\\phi}| >= 2.0$. This jet is infered to be the ISR that produces the $\\tilde{t}\\bar{\\tilde{t}}$ pair.\n",
    "\n",
    "First, lets compare the run-time of the columnar analysis with the original row-wise analysis. Then we will convince ourselves this gives the same result."
   ]
  },
  {
   "cell_type": "code",
   "execution_count": 2,
   "id": "789ff6fd-0535-4e8f-b6f7-382c3dc25242",
   "metadata": {},
   "outputs": [],
   "source": [
    "#Open and read the ROOT File TTree Events\n",
    "events = uproot.open(\"SMS_T2tt_mStop250_mLSP75_fastsim_2016_Skim_070650_37_082253_36.root:Events\")\n",
    "events = events.arrays(\n",
    "    expressions = [\"FatJet_pt\",\n",
    "                   \"FatJet_eta\",\n",
    "                   \"FatJet_phi\",\n",
    "                   \"FatJet_btagDeepB\",\n",
    "                   \"FatJet_subJetIdx1\",\n",
    "                   \"FatJet_subJetIdx2\",\n",
    "                   \"SubJet_btagDeepB\",\n",
    "                   \"MET_phi\"\n",
    "                  ]\n",
    ")\n",
    "#Helper function to calculate delta_phi between a and b\n",
    "def delta_phi(a, b):\n",
    "    return (a - b + np.pi) % np.pi - np.pi\n"
   ]
  },
  {
   "cell_type": "code",
   "execution_count": 3,
   "id": "5df5bfd3-66de-4bee-8cf2-d8bb8e8e2662",
   "metadata": {},
   "outputs": [
    {
     "name": "stdout",
     "output_type": "stream",
     "text": [
      "CPU times: user 436 ms, sys: 23.2 ms, total: 459 ms\n",
      "Wall time: 457 ms\n"
     ]
    }
   ],
   "source": [
    "%%time\n",
    "#ISR check\n",
    "FatJets_pts = ak.firsts(events[\"FatJet_pt\"], axis=1)\n",
    "FatJets_eta = ak.firsts(events[\"FatJet_eta\"], axis=1)\n",
    "FatJets_phi = ak.firsts(events[\"FatJet_phi\"], axis=1)\n",
    "FatJets_btag = ak.firsts(events[\"FatJet_btagDeepB\"], axis=1)\n",
    "\n",
    "#Subjet identification and tagging\n",
    "Subjets_btag = events[\"SubJet_btagDeepB\"]\n",
    "nbjets = ak.num(Subjets_btag, axis=1)\n",
    "FatJets_subJetIdx1 = ak.firsts(events[\"FatJet_subJetIdx1\"], axis=1)\n",
    "FatJets_subJetIdx1 = ak.mask(FatJets_subJetIdx1, FatJets_subJetIdx1 >= 0)\n",
    "FatJets_subJetIdx2 = ak.firsts(events[\"FatJet_subJetIdx2\"], axis=1)\n",
    "FatJets_subJetIdx2 = ak.mask(FatJets_subJetIdx2, FatJets_subJetIdx2 >= 0)\n",
    "Subjet1_btag = ak.firsts(Subjets_btag[ak.singletons(FatJets_subJetIdx1)])\n",
    "Subjet2_btag = ak.firsts(Subjets_btag[ak.singletons(FatJets_subJetIdx2)])\n",
    "#For events with no subjets, say there is a proxy subjet that isn't btagged\n",
    "FatJets_subJetIdx1 = ak.fill_none(FatJets_subJetIdx1, 0)\n",
    "FatJets_subJetIdx2 = ak.fill_none(FatJets_subJetIdx2, 0)\n",
    "Subjet1_btag = ak.fill_none(Subjet1_btag, 0)\n",
    "Subjet2_btag = ak.fill_none(Subjet2_btag, 0)\n",
    "MET_phi = events[\"MET_phi\"]\n",
    "working_point = 0.2217\n",
    "SAT_Pass_ISR_columnar = (\n",
    "        (FatJets_pts >= 200.)\n",
    "        & (abs(FatJets_eta) < 2.4)\n",
    "        & (FatJets_btag < working_point)\n",
    "        #subJet1\n",
    "        & (~((FatJets_subJetIdx1 >= 0) & (FatJets_subJetIdx1 < nbjets) & (Subjet1_btag > working_point)))\n",
    "        #subJet2\n",
    "        & (~((FatJets_subJetIdx2 >= 0) & (FatJets_subJetIdx2 < nbjets) & (Subjet2_btag > working_point)))\n",
    "        & (abs(delta_phi(FatJets_phi, MET_phi)) >= 2.0)\n",
    "        )\n",
    "SAT_Pass_ISR_columnar = ak.fill_none(SAT_Pass_ISR_columnar, False)"
   ]
  },
  {
   "cell_type": "code",
   "execution_count": 4,
   "id": "eb83f86f-f3b2-4ab2-9300-64c6195949a1",
   "metadata": {},
   "outputs": [
    {
     "name": "stdout",
     "output_type": "stream",
     "text": [
      "CPU times: user 1min 41s, sys: 3.38 ms, total: 1min 41s\n",
      "Wall time: 1min 41s\n"
     ]
    }
   ],
   "source": [
    "%%time \n",
    "#this can take a couple minutes\n",
    "#ISR check\n",
    "SAT_Pass_ISR_row = (np.zeros(len(events))==1)\n",
    "FatJets_pts = events[\"FatJet_pt\"]\n",
    "FatJets_eta = events[\"FatJet_eta\"]\n",
    "FatJets_phi = events[\"FatJet_phi\"]\n",
    "FatJets_btag = events[\"FatJet_btagDeepB\"]\n",
    "FatJets_subJetIdx1 = events[\"FatJet_subJetIdx1\"]\n",
    "FatJets_subJetIdx2 = events[\"FatJet_subJetIdx2\"]\n",
    "SubJets_btag = events[\"SubJet_btagDeepB\"]\n",
    "MET_phi = events[\"MET_phi\"]\n",
    "working_point = 0.2217 #2016 taken from SUSYANATools constants\n",
    "for i, pts in enumerate(FatJets_pts):\n",
    "    if len(pts) == 0:\n",
    "        continue\n",
    "    if (np.float32(pts[0]) < 200.0): #Only use leading fatjet\n",
    "        continue\n",
    "    if (np.abs(FatJets_eta[i][0]) > 2.4):\n",
    "        continue\n",
    "    if (FatJets_btag[i][0] > working_point):\n",
    "        continue\n",
    "    nSubJets = len(SubJets_btag[i])\n",
    "    if (FatJets_subJetIdx1[i][0] >= 0 and FatJets_subJetIdx1[i][0] < nSubJets and SubJets_btag[i][FatJets_subJetIdx1[i][0]] > working_point):\n",
    "        continue\n",
    "    if (FatJets_subJetIdx2[i][0] >= 0 and FatJets_subJetIdx2[i][0] < nSubJets and SubJets_btag[i][FatJets_subJetIdx2[i][0]] > working_point):\n",
    "        continue\n",
    "    dphi = np.abs(delta_phi(FatJets_phi[i][0], MET_phi[i]))\n",
    "    if dphi >= 2.0:\n",
    "        SAT_Pass_ISR_row[i] = True"
   ]
  },
  {
   "cell_type": "code",
   "execution_count": 5,
   "id": "1565bb71-9285-471e-9f7a-a6b52c99b4bf",
   "metadata": {},
   "outputs": [
    {
     "name": "stdout",
     "output_type": "stream",
     "text": [
      "Methods produce same result\n"
     ]
    }
   ],
   "source": [
    "if ak.all(SAT_Pass_ISR_columnar == SAT_Pass_ISR_row):\n",
    "    print(\"Methods produce same result\")"
   ]
  },
  {
   "cell_type": "markdown",
   "id": "e88ce1aa-dbed-4f0a-8e63-4de293be7891",
   "metadata": {},
   "source": [
    "Obviously the row-wise analysis is easier to implement, but the run-time is about 200 times longer. With large sets of data a script that original took 1 day to finish could instead have been finished within ~7 minutes. This not only allows your analysis to proceed quicker, but also allows other users to get access to the cluster much sooner and reduces the carbon footprint of our analyses. \n",
    "\n",
    "Let's move on to understanding the different parts of the columnar analysis code.\n",
    "### Columnar Script Analysis"
   ]
  },
  {
   "cell_type": "code",
   "execution_count": 6,
   "id": "decf622a-8d64-46d7-83af-8ab5b8004f7a",
   "metadata": {},
   "outputs": [],
   "source": [
    "FatJets_pts = ak.firsts(events[\"FatJet_pt\"], axis=1)\n",
    "FatJets_eta = ak.firsts(events[\"FatJet_eta\"], axis=1)\n",
    "FatJets_phi = ak.firsts(events[\"FatJet_phi\"], axis=1)\n",
    "FatJets_btag = ak.firsts(events[\"FatJet_btagDeepB\"], axis=1)"
   ]
  },
  {
   "cell_type": "markdown",
   "id": "a5510277-d83e-4b0e-aec0-227686cfb542",
   "metadata": {},
   "source": [
    "In this step we are obtaining the variables relevant to the leading FatJet in each event. `ak.firsts()` \"selects the first element of each non-empty list and inserts None for each empty list.\" Therefore, events without a leading FatJet will read `None`."
   ]
  },
  {
   "cell_type": "code",
   "execution_count": 7,
   "id": "5f87e72a-0d79-48ff-a0fb-14a8325b74fb",
   "metadata": {},
   "outputs": [],
   "source": [
    "#Subjet identification and tagging\n",
    "Subjets_btag = events[\"SubJet_btagDeepB\"]\n",
    "nbjets = ak.num(Subjets_btag, axis=1)\n",
    "FatJets_subJetIdx1 = ak.firsts(events[\"FatJet_subJetIdx1\"], axis=1)\n",
    "FatJets_subJetIdx1 = ak.mask(FatJets_subJetIdx1, FatJets_subJetIdx1 >= 0)\n",
    "FatJets_subJetIdx2 = ak.firsts(events[\"FatJet_subJetIdx2\"], axis=1)\n",
    "FatJets_subJetIdx2 = ak.mask(FatJets_subJetIdx2, FatJets_subJetIdx2 >= 0)\n",
    "Subjet1_btag = ak.firsts(Subjets_btag[ak.singletons(FatJets_subJetIdx1)])\n",
    "Subjet2_btag = ak.firsts(Subjets_btag[ak.singletons(FatJets_subJetIdx2)])\n",
    "#For events with no subjets, say there is a proxy subjet that isn't btagged\n",
    "FatJets_subJetIdx1 = ak.fill_none(FatJets_subJetIdx1, 0)\n",
    "FatJets_subJetIdx2 = ak.fill_none(FatJets_subJetIdx2, 0)\n",
    "Subjet1_btag = ak.fill_none(Subjet1_btag, 0)\n",
    "Subjet2_btag = ak.fill_none(Subjet2_btag, 0)"
   ]
  },
  {
   "cell_type": "markdown",
   "id": "805dcd19-56e0-44f1-99cb-aed394b97a20",
   "metadata": {},
   "source": [
    "The tricky part for this algorithm is handling the subjets of the fat jet. In any event, the leading fat jet may have 0, 1, or 2 subjets, or if there are no fatjets there will be no subjets. In the MC file, the absence of a certain subjet is given by an index of -1. "
   ]
  },
  {
   "cell_type": "code",
   "execution_count": 8,
   "id": "ff9ef7dc-7f07-4af6-a2f3-fd010dbd303c",
   "metadata": {},
   "outputs": [],
   "source": [
    "FatJets_subJetIdx1 = ak.firsts(events[\"FatJet_subJetIdx1\"], axis=1)\n",
    "FatJets_subJetIdx1 = ak.mask(FatJets_subJetIdx1, FatJets_subJetIdx1 >= 0)\n",
    "Subjet1_btag = ak.firsts(Subjets_btag[ak.singletons(FatJets_subJetIdx1)])"
   ]
  },
  {
   "cell_type": "markdown",
   "id": "3dc81c3d-bbf1-4439-b4f9-b7342aacde34",
   "metadata": {},
   "source": [
    "We call `ak.firsts(events[\"FatJet_subJetIdx1\"], axis=1)` to get the leading fat jet's subjet 1 index. We then call `ak.mask(FatJets_subJetIdx1, FatJets_subJetIdx1 >= 0)` to replace any index < 0 with a None value indicating the absence of a subjet. \n",
    "\n",
    "`Subjets_btag` contains the btag values for all fatjets in the event. We want to mask `Subjets_btag` in such a way to obtain the btag value for subjet 1 and 2 in two separate arrays. However `FatJets_subJetIdx1` is of depth 1 and `Subjets_btag` is of depth 2. We must mask `Subjets_btag` with an array of depth 2 in order to obtain an array of depth 1. `ak.singletons(FatJets_subJetIdx1)` essentially increases the depth of the argument by 1. See the example below."
   ]
  },
  {
   "cell_type": "code",
   "execution_count": 9,
   "id": "11936f54-bfc6-4754-8411-79c502e37445",
   "metadata": {},
   "outputs": [
    {
     "data": {
      "text/html": [
       "<pre>[[1],\n",
       " [2],\n",
       " [3]]\n",
       "---------------------\n",
       "type: 3 * var * int64</pre>"
      ],
      "text/plain": [
       "<Array [[1], [2], [3]] type='3 * var * int64'>"
      ]
     },
     "execution_count": 9,
     "metadata": {},
     "output_type": "execute_result"
    }
   ],
   "source": [
    "ak.singletons([1,2,3])"
   ]
  },
  {
   "cell_type": "code",
   "execution_count": 10,
   "id": "b1d90f92-acd5-4582-b1fc-a03fff4d93fd",
   "metadata": {},
   "outputs": [],
   "source": [
    "#For events with no subjets, say there is a proxy subjet that isn't btagged\n",
    "FatJets_subJetIdx1 = ak.fill_none(FatJets_subJetIdx1, 0)\n",
    "FatJets_subJetIdx2 = ak.fill_none(FatJets_subJetIdx2, 0)\n",
    "Subjet1_btag = ak.fill_none(Subjet1_btag, 0)\n",
    "Subjet2_btag = ak.fill_none(Subjet2_btag, 0)"
   ]
  },
  {
   "cell_type": "markdown",
   "id": "635bc135-16e9-4909-a4e8-4f377f01c8cc",
   "metadata": {},
   "source": [
    "Now we must handle the events missing subjets. `ak.fill_none()` replaces all `None` entries in an array with a given value. Any time there is no subjet, we will say the subjet index is 0 and it has a btag value of 0."
   ]
  },
  {
   "cell_type": "code",
   "execution_count": 11,
   "id": "20bb6160-ba06-4b6b-93c1-d0360e9d67fc",
   "metadata": {},
   "outputs": [
    {
     "data": {
      "text/html": [
       "<pre>[False,\n",
       " False,\n",
       " True,\n",
       " False,\n",
       " False,\n",
       " False,\n",
       " False,\n",
       " False,\n",
       " False,\n",
       " False,\n",
       " ...,\n",
       " False,\n",
       " False,\n",
       " False,\n",
       " False,\n",
       " False,\n",
       " False,\n",
       " False,\n",
       " False,\n",
       " False]\n",
       "-------------------\n",
       "type: 847873 * bool</pre>"
      ],
      "text/plain": [
       "<Array [False, False, True, ..., False, False, False] type='847873 * bool'>"
      ]
     },
     "execution_count": 11,
     "metadata": {},
     "output_type": "execute_result"
    }
   ],
   "source": [
    "SAT_Pass_ISR_columnar = (\n",
    "        (FatJets_pts >= 200.)\n",
    "        & (abs(FatJets_eta) < 2.4)\n",
    "        & (FatJets_btag < working_point)\n",
    "        #subJet1\n",
    "        & (~((FatJets_subJetIdx1 >= 0) & (FatJets_subJetIdx1 < nbjets) & (Subjet1_btag > working_point)))\n",
    "        #subJet2\n",
    "        & (~((FatJets_subJetIdx2 >= 0) & (FatJets_subJetIdx2 < nbjets) & (Subjet2_btag > working_point)))\n",
    "        & (abs(delta_phi(FatJets_phi, MET_phi)) >= 2.0)\n",
    "        )\n",
    "SAT_Pass_ISR_columnar = ak.fill_none(SAT_Pass_ISR_columnar, False)\n",
    "SAT_Pass_ISR_columnar"
   ]
  },
  {
   "cell_type": "markdown",
   "id": "e53a178b-3e77-4b6b-a785-02cc54c2f263",
   "metadata": {},
   "source": [
    "In this step we finally apply all the selection criteria and obtain `SAT_Pass_ISR_columnar` which is an array of booleans defining which events contain an ISR jet."
   ]
  }
 ],
 "metadata": {
  "kernelspec": {
   "display_name": "Python 3 (ipykernel)",
   "language": "python",
   "name": "python3"
  },
  "language_info": {
   "codemirror_mode": {
    "name": "ipython",
    "version": 3
   },
   "file_extension": ".py",
   "mimetype": "text/x-python",
   "name": "python",
   "nbconvert_exporter": "python",
   "pygments_lexer": "ipython3",
   "version": "3.9.5"
  }
 },
 "nbformat": 4,
 "nbformat_minor": 5
}
