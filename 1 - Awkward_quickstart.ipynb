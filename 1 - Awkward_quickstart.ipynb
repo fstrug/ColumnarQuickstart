{
 "cells": [
  {
   "cell_type": "code",
   "execution_count": 1,
   "id": "8e6d6457-f84a-4bcf-868b-04d506590fd4",
   "metadata": {},
   "outputs": [
    {
     "name": "stdout",
     "output_type": "stream",
     "text": [
      "Requirement already satisfied: awkward in ./pyawk/lib/python3.8/site-packages (2.4.4)\n",
      "Requirement already satisfied: awkward-cpp==24 in ./pyawk/lib/python3.8/site-packages (from awkward) (24)\n",
      "Requirement already satisfied: numpy>=1.18.0 in ./pyawk/lib/python3.8/site-packages (from awkward) (1.24.4)\n",
      "Requirement already satisfied: importlib-metadata>=4.13.0; python_version < \"3.12\" in ./pyawk/lib/python3.8/site-packages (from awkward) (6.8.0)\n",
      "Requirement already satisfied: packaging in ./pyawk/lib/python3.8/site-packages (from awkward) (23.2)\n",
      "Requirement already satisfied: typing-extensions>=4.1.0; python_version < \"3.11\" in ./pyawk/lib/python3.8/site-packages (from awkward) (4.8.0)\n",
      "Requirement already satisfied: importlib_resources; python_version < \"3.9\" in ./pyawk/lib/python3.8/site-packages (from awkward-cpp==24->awkward) (6.1.0)\n",
      "Requirement already satisfied: zipp>=0.5 in ./pyawk/lib/python3.8/site-packages (from importlib-metadata>=4.13.0; python_version < \"3.12\"->awkward) (3.17.0)\n"
     ]
    }
   ],
   "source": [
    "#Set up notebook if awkward array not isntalled\n",
    "!pip install awkward"
   ]
  },
  {
   "cell_type": "markdown",
   "id": "10b94012-4684-4478-8b9b-b87ba0f1b8a7",
   "metadata": {},
   "source": [
    "# Awkward Array quickstart\n",
    "From the awkward array documentation found [here](https://awkward-array.org/doc/main/), \"Awkward Array is a library for nested, variable-sized data, including arbitrary-length lists, records, mixed types, and missing data, using NumPy-like idioms.\" Awkward array functions make columnar analysis straightforward to implement. Columnar analysis is advantageous to row-wise analysis as it drastically reduces run time by utilizing memory more effectively. In this section, we will discuss building awkward arrays and some simple operations. \n",
    "\n",
    "## Creating an Awkward Array\n",
    "First import `awkward` and create a simple jagged array."
   ]
  },
  {
   "cell_type": "code",
   "execution_count": 5,
   "id": "c87b2ff4-2264-4407-a5e5-dc84eec9678b",
   "metadata": {},
   "outputs": [
    {
     "data": {
      "text/html": [
       "<pre>[[5, 4, 4],\n",
       " [2],\n",
       " [3, 5]]\n",
       "---------------------\n",
       "type: 3 * var * int64</pre>"
      ],
      "text/plain": [
       "<Array [[5, 4, 4], [2], [3, 5]] type='3 * var * int64'>"
      ]
     },
     "execution_count": 5,
     "metadata": {},
     "output_type": "execute_result"
    }
   ],
   "source": [
    "import awkward as ak\n",
    "array = ak.Array([[5,4,4],[2],[3,5]])\n",
    "array"
   ]
  },
  {
   "cell_type": "markdown",
   "id": "46a32d82-32b9-475b-a597-db3e15aaecc0",
   "metadata": {},
   "source": [
    "Awkward array entries can be read the same way as a python list or numpy array. Lets read the 3rd row's 2nd entry as an example."
   ]
  },
  {
   "cell_type": "code",
   "execution_count": 3,
   "id": "48e12c86-00a1-434f-aa69-f4c722ad2abe",
   "metadata": {},
   "outputs": [
    {
     "name": "stdout",
     "output_type": "stream",
     "text": [
      "5\n"
     ]
    }
   ],
   "source": [
    "print(array[2,1])"
   ]
  },
  {
   "cell_type": "markdown",
   "id": "4da9ce97-5aa0-4bff-9b9b-e00264c912f9",
   "metadata": {},
   "source": [
    "# Matrix Manipulations\n",
    "Let's perform some simple manipulations with this array. Suppose we want to multiply the values in a row together. In awkward array this is accomplished by calling `ak.prod()` and defining which axis to multiply along `axis = 1`."
   ]
  },
  {
   "cell_type": "code",
   "execution_count": 8,
   "id": "75c2d54e-c754-4727-b193-c8ad5549528a",
   "metadata": {},
   "outputs": [
    {
     "name": "stdout",
     "output_type": "stream",
     "text": [
      "[80, 2, 15]\n"
     ]
    }
   ],
   "source": [
    "row_product = ak.prod(array, axis=1)\n",
    "print(row_product)"
   ]
  },
  {
   "cell_type": "markdown",
   "id": "088ff40d-ed52-4ee7-94b7-733516ae6267",
   "metadata": {},
   "source": [
    "If you instead set `axis=0`, it will multiply the scale factors along the columns of this array. This operation has reduced the dimension of the array from 2 to 1.\n",
    "\n",
    "We can similarly sum along a given axis by calling `ak.sum()`."
   ]
  },
  {
   "cell_type": "code",
   "execution_count": 10,
   "id": "dc7d6bf9-eb89-4b23-9cdd-a78335608894",
   "metadata": {},
   "outputs": [
    {
     "name": "stdout",
     "output_type": "stream",
     "text": [
      "[13, 2, 8]\n"
     ]
    }
   ],
   "source": [
    "sum = ak.sum(array, axis=1)\n",
    "print(sum)"
   ]
  },
  {
   "cell_type": "markdown",
   "id": "44ed16ae-4f35-4536-925e-2483270e23c9",
   "metadata": {},
   "source": [
    "# Boolean Operations\n",
    "Awkward array can also perform boolean operations on matrices. This is often done when evaluating selection criteria. Let's obtain an array of booleans containing the information of which entries are $> 3$."
   ]
  },
  {
   "cell_type": "code",
   "execution_count": 14,
   "id": "9e755c80-44c3-44e3-8b3a-1fcd616509d9",
   "metadata": {},
   "outputs": [
    {
     "name": "stdout",
     "output_type": "stream",
     "text": [
      "[[True, True, True], [False], [False, True]]\n"
     ]
    }
   ],
   "source": [
    "selection = array > 3\n",
    "print(selection)"
   ]
  },
  {
   "cell_type": "markdown",
   "id": "b3e2682b-6488-4679-bc28-7f990184201f",
   "metadata": {},
   "source": [
    "With `selection`, we can obtain information about which rows contain at least one entry satisfying the criterion by calling `ak.any()`."
   ]
  },
  {
   "cell_type": "code",
   "execution_count": 15,
   "id": "2c4f64b1-9e96-44dc-8b3b-2b54644de202",
   "metadata": {},
   "outputs": [
    {
     "name": "stdout",
     "output_type": "stream",
     "text": [
      "[True, False, True]\n"
     ]
    }
   ],
   "source": [
    "good_row = ak.any(selection, axis = 1)\n",
    "print(good_row)"
   ]
  },
  {
   "cell_type": "markdown",
   "id": "56bff506-f453-47b3-8683-6e15d4a22c97",
   "metadata": {},
   "source": [
    "`ak.any()` is somewhat analogous to an OR operation, and the method `ak.all()` is analogous to an AND operation. "
   ]
  },
  {
   "cell_type": "code",
   "execution_count": 16,
   "id": "179728e0-dfeb-4dd0-afb1-2b710522599f",
   "metadata": {},
   "outputs": [
    {
     "name": "stdout",
     "output_type": "stream",
     "text": [
      "[True, False, False]\n"
     ]
    }
   ],
   "source": [
    "print(ak.all(selection, axis = 1))"
   ]
  },
  {
   "cell_type": "markdown",
   "id": "9e3ee5e3-b3a1-41b4-8449-66e0c7300502",
   "metadata": {},
   "source": [
    "# Masking (Applying Cuts)\n",
    "Now consider that we may want to remove entries that dont match our criterion. This is done by masking the array. W pass an array of booleans that define what entries to keep or exclude. Masking can be done at any depth of the array. Let's first 'cut' out all the entries less than 3 and compare the original array with the new cut array."
   ]
  },
  {
   "cell_type": "code",
   "execution_count": 17,
   "id": "dde8a514-5bd7-4afc-a865-b4c8d3259949",
   "metadata": {},
   "outputs": [
    {
     "name": "stdout",
     "output_type": "stream",
     "text": [
      "Original array [[5, 4, 4], [2], [3, 5]]\n",
      "Cut array [[5, 4, 4], [], [5]]\n"
     ]
    }
   ],
   "source": [
    "# Recalculate masking array\n",
    "selection = array > 3\n",
    "#Pass cut as an array of booleans\n",
    "masked_array = scale_factors[selection]\n",
    "print(\"Original array\", array)\n",
    "print(\"Cut array\", masked_array)"
   ]
  },
  {
   "cell_type": "markdown",
   "id": "26eb58bf-09bb-4469-8652-d82a25d67099",
   "metadata": {},
   "source": [
    "The entries with value less than or equal to 3 have been removed from the array. If instead we want to remove rows without one entry greater than 3, we can do."
   ]
  },
  {
   "cell_type": "code",
   "execution_count": 18,
   "id": "ffe9cd8c-25fd-4f56-bb14-63cc11dc3a77",
   "metadata": {},
   "outputs": [
    {
     "name": "stdout",
     "output_type": "stream",
     "text": [
      "[[5, 4, 4], [3, 5]]\n"
     ]
    }
   ],
   "source": [
    "rows_pass = ak.any(selection, axis = 1)\n",
    "masked_array = array[rows_pass]\n",
    "print(masked_array)"
   ]
  },
  {
   "cell_type": "markdown",
   "id": "d9ee5f09-cb9b-4222-944f-c25d9ba2c985",
   "metadata": {},
   "source": [
    "# Conclusion\n",
    "Awkward array methods allow one to vastly speed up their analysis. This won't be realized in arrays of this size, but for TTrees with 100k+ events this can drastically reduce run time. In the next section, we will navigate a TFile in `uproot` and perform some basic analysis."
   ]
  }
 ],
 "metadata": {
  "kernelspec": {
   "display_name": "Python 3 (ipykernel)",
   "language": "python",
   "name": "python3"
  },
  "language_info": {
   "codemirror_mode": {
    "name": "ipython",
    "version": 3
   },
   "file_extension": ".py",
   "mimetype": "text/x-python",
   "name": "python",
   "nbconvert_exporter": "python",
   "pygments_lexer": "ipython3",
   "version": "3.8.10"
  }
 },
 "nbformat": 4,
 "nbformat_minor": 5
}
