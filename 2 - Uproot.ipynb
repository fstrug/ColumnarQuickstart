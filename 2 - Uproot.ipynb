{
 "cells": [
  {
   "cell_type": "code",
   "execution_count": 1,
   "id": "f8cab3d0-64e7-4663-aa74-78d66122f6d7",
   "metadata": {},
   "outputs": [
    {
     "name": "stdout",
     "output_type": "stream",
     "text": [
      "Requirement already satisfied: awkward in ./pyawk/lib/python3.8/site-packages (2.4.4)\n",
      "Requirement already satisfied: uproot in ./pyawk/lib/python3.8/site-packages (5.0.12)\n",
      "Requirement already satisfied: importlib-metadata>=4.13.0; python_version < \"3.12\" in ./pyawk/lib/python3.8/site-packages (from awkward) (6.8.0)\n",
      "Requirement already satisfied: packaging in ./pyawk/lib/python3.8/site-packages (from awkward) (23.2)\n",
      "Requirement already satisfied: awkward-cpp==24 in ./pyawk/lib/python3.8/site-packages (from awkward) (24)\n",
      "Requirement already satisfied: numpy>=1.18.0 in ./pyawk/lib/python3.8/site-packages (from awkward) (1.24.4)\n",
      "Requirement already satisfied: typing-extensions>=4.1.0; python_version < \"3.11\" in ./pyawk/lib/python3.8/site-packages (from awkward) (4.8.0)\n",
      "Requirement already satisfied: zipp>=0.5 in ./pyawk/lib/python3.8/site-packages (from importlib-metadata>=4.13.0; python_version < \"3.12\"->awkward) (3.17.0)\n",
      "Requirement already satisfied: importlib_resources; python_version < \"3.9\" in ./pyawk/lib/python3.8/site-packages (from awkward-cpp==24->awkward) (6.1.0)\n"
     ]
    }
   ],
   "source": [
    "#Set up notebook\n",
    "!pip3 install awkward uproot\n",
    "import awkward as ak\n",
    "import uproot\n",
    "import numpy as np"
   ]
  },
  {
   "cell_type": "markdown",
   "id": "70b5a2cf-8639-408f-affa-37fde2bf902e",
   "metadata": {},
   "source": [
    "# Reading ROOT Files and Basic Analysis Techniques\n",
    "In this exercise, we will use `uproot` to open a TFile, learn to navigate its structure, and import a TTree as an awkward array. Once we have read the TTree \"events\", we can begin to perform our analysis of the data.\n",
    "\n",
    "## Reading ROOT Files\n",
    "The library `uproot` handles reading and writing ROOT files in python. It can read the TFile TTrees' branches into numpy arrays, pandas dataframe, or awkward arrays by setting the variable `uproot.default_library`. We will default it to awkward array for this exercise."
   ]
  },
  {
   "cell_type": "code",
   "execution_count": 2,
   "id": "81b772cb-572a-43f0-8729-e217a47582b0",
   "metadata": {},
   "outputs": [
    {
     "name": "stdout",
     "output_type": "stream",
     "text": [
      "<ReadOnlyDirectory '/' at 0x7f45e4090520>\n"
     ]
    }
   ],
   "source": [
    "uproot.default_library = \"ak\" \n",
    "TFile = uproot.open(\"SMS_T2tt_mStop250_mLSP75_fastsim_2016_Skim_070650_37_082253_36.root\")\n",
    "print(TFile)"
   ]
  },
  {
   "cell_type": "markdown",
   "id": "b0726518-8bf4-4b9e-b721-78674e51ad05",
   "metadata": {},
   "source": [
    "Printing the TFile object does not give much information. To access its contents we need to use methods defined by `Uproot.ReadOnlyDirectory`. The class reference can be found [here](https://uproot.readthedocs.io/en/latest/uproot.reading.ReadOnlyDirectory.html). To see the contents of `TFile` we call"
   ]
  },
  {
   "cell_type": "code",
   "execution_count": 3,
   "id": "cdd9c755-3d1c-4f15-ab73-27e77266bfdc",
   "metadata": {},
   "outputs": [
    {
     "data": {
      "text/plain": [
       "['Events;1', 'Runs;1', 'LuminosityBlocks;1', 'untagged;1']"
      ]
     },
     "execution_count": 3,
     "metadata": {},
     "output_type": "execute_result"
    }
   ],
   "source": [
    "TFile.keys()"
   ]
  },
  {
   "cell_type": "markdown",
   "id": "8c1c6f14-1b35-4d0e-b3b0-748ee1ef3195",
   "metadata": {},
   "source": [
    "To obtain the classtypes and number of branches for these objects we call"
   ]
  },
  {
   "cell_type": "code",
   "execution_count": 4,
   "id": "ff34eb5f-a17b-495d-b1aa-96db613c6937",
   "metadata": {},
   "outputs": [
    {
     "data": {
      "text/plain": [
       "[('Events;1', <TTree 'Events' (860 branches) at 0x7f45cafd8490>),\n",
       " ('Runs;1', <TTree 'Runs' (8 branches) at 0x7f4513622520>),\n",
       " ('LuminosityBlocks;1',\n",
       "  <TTree 'LuminosityBlocks' (2 branches) at 0x7f45135b9a00>),\n",
       " ('untagged;1', <TObjString 'untagged' at 0x7f45138eccf0>)]"
      ]
     },
     "execution_count": 4,
     "metadata": {},
     "output_type": "execute_result"
    }
   ],
   "source": [
    "TFile.items()"
   ]
  },
  {
   "cell_type": "markdown",
   "id": "4448100e-19b7-495a-a9f5-f646af069e33",
   "metadata": {},
   "source": [
    "We can see our ROOT file contains a TTree called \"Events\" with 860 branches which contains our data. We can read it without loading all the data into memory. We can call `.keys()` and `.items()` on the TTree as well to read its branch names. Let's read \"Events\" by passing the key in square brackets to `TFile` and check the first 5 branches."
   ]
  },
  {
   "cell_type": "code",
   "execution_count": 5,
   "id": "542f6425-d149-4431-baf5-dd52a0bfc4c1",
   "metadata": {},
   "outputs": [
    {
     "name": "stdout",
     "output_type": "stream",
     "text": [
      "['run', 'luminosityBlock', 'event', 'btagWeight_CSVV2']\n"
     ]
    }
   ],
   "source": [
    "Events = TFile[\"Events\"]\n",
    "print(Events.keys()[0:4])"
   ]
  },
  {
   "cell_type": "markdown",
   "id": "b83f1b5c-d765-4925-9d64-998757c2841a",
   "metadata": {},
   "source": [
    "The contents of these branches can be read as an awkward array by calling `TBranch.array()`. Let's read the branch `Muon_pt` into an awkward array."
   ]
  },
  {
   "cell_type": "code",
   "execution_count": 6,
   "id": "5e9d77bb-88b7-4a7a-bdee-30a351cd2f61",
   "metadata": {},
   "outputs": [
    {
     "data": {
      "text/html": [
       "<pre>[[],\n",
       " [5.19],\n",
       " [12.6],\n",
       " [14.6, 5.42],\n",
       " [32.2],\n",
       " [],\n",
       " [],\n",
       " [],\n",
       " [],\n",
       " [],\n",
       " ...,\n",
       " [],\n",
       " [33.8, 30.5, 14.1, 8.37],\n",
       " [16.3, 13.1, 8.23],\n",
       " [49, 8.96],\n",
       " [110, 64.1],\n",
       " [61.8],\n",
       " [],\n",
       " [],\n",
       " []]\n",
       "----------------------------\n",
       "type: 847873 * var * float32</pre>"
      ],
      "text/plain": [
       "<Array [[], [5.19], [12.6], ..., [], [], []] type='847873 * var * float32'>"
      ]
     },
     "execution_count": 6,
     "metadata": {},
     "output_type": "execute_result"
    }
   ],
   "source": [
    "Muon_pT = Events[\"Muon_pt\"].array()\n",
    "Muon_pT"
   ]
  },
  {
   "cell_type": "markdown",
   "id": "d548334e-df0c-43b0-9cd2-1a3301ab6890",
   "metadata": {},
   "source": [
    "We read `type: 847873 * var * float32` as follows. There are 847873 entries (events) where the values are all of type `float32`. `* var *` defines the shape of the array. The empty entries are the events with no muons. We can also create an awkward array containing multiple branches if convenient. Let's create an awkward array containing the pT, eta, and phi of the muons using `ak.zip`."
   ]
  },
  {
   "cell_type": "code",
   "execution_count": 7,
   "id": "294576e2-c3cd-422b-9c8d-7f5f5e6a746d",
   "metadata": {},
   "outputs": [
    {
     "data": {
      "text/html": [
       "<pre>[[],\n",
       " [{pT: 5.19, eta: 0.723, phi: -1.65}],\n",
       " [{pT: 12.6, eta: -0.927, phi: -1.09}],\n",
       " [{pT: 14.6, eta: 0.145, phi: -2.2}, {pT: 5.42, eta: 0.686, ...}],\n",
       " [{pT: 32.2, eta: 0.33, phi: 3.07}],\n",
       " [],\n",
       " [],\n",
       " [],\n",
       " [],\n",
       " [],\n",
       " ...,\n",
       " [],\n",
       " [{pT: 33.8, eta: -0.993, phi: -3.13}, {...}, ..., {pT: 8.37, eta: -1.92, ...}],\n",
       " [{pT: 16.3, eta: 0.593, phi: 1.05}, {...}, {pT: 8.23, eta: -0.66, ...}],\n",
       " [{pT: 49, eta: -0.765, phi: 1.41}, {pT: 8.96, eta: 0.753, phi: ..., ...}],\n",
       " [{pT: 110, eta: 1.06, phi: -0.242}, {pT: 64.1, eta: -0.221, ...}],\n",
       " [{pT: 61.8, eta: 0.137, phi: -0.0798}],\n",
       " [],\n",
       " [],\n",
       " []]\n",
       "--------------------------------------------------------------------------------\n",
       "type: 847873 * var * {\n",
       "    pT: float32,\n",
       "    eta: float32,\n",
       "    phi: float32\n",
       "}</pre>"
      ],
      "text/plain": [
       "<Array [[], [{pT: 5.19, ...}], ..., [], []] type='847873 * var * {pT: float...'>"
      ]
     },
     "execution_count": 7,
     "metadata": {},
     "output_type": "execute_result"
    }
   ],
   "source": [
    "muons = ak.zip(\n",
    "            {\"pT\": Muon_pT, #key is the name of the array and the value is the associated array\n",
    "             \"eta\": Events[\"Muon_eta\"].array(), \n",
    "             \"phi\": Events[\"Muon_phi\"].array(),\n",
    "             }\n",
    "        )\n",
    "muons"
   ]
  },
  {
   "cell_type": "markdown",
   "id": "92203767-6204-4087-9df7-0b6db86715ca",
   "metadata": {},
   "source": [
    "We can read the branches of our constructed array as follows by passing the key in square brackets."
   ]
  },
  {
   "cell_type": "code",
   "execution_count": 8,
   "id": "20a80025-b8b7-4825-82a0-babdf44e7637",
   "metadata": {},
   "outputs": [
    {
     "name": "stdout",
     "output_type": "stream",
     "text": [
      "[[], [0.723], [-0.927], [0.145, 0.686], [0.33], ..., [...], [0.137], [], [], []]\n"
     ]
    }
   ],
   "source": [
    "print(muons[\"eta\"])"
   ]
  },
  {
   "cell_type": "markdown",
   "id": "3aea1a71-0c37-44bb-8b37-cee6197cc9c5",
   "metadata": {},
   "source": [
    "## Basic Selection Techniques \n",
    "### Efficiency Calculation\n",
    "It is often convenient to evaluate multiple selection criteria at once. Let's calculate the efficiency of the following selection: \"An event must contain atleast one muon with pt > 50 and |eta| < 2.5\". Let's compare the time to complete this calculation between a row-wise and columnar analysis."
   ]
  },
  {
   "cell_type": "code",
   "execution_count": 13,
   "id": "dabae4ee-e945-4d84-b31e-e547c9375fa4",
   "metadata": {},
   "outputs": [
    {
     "name": "stdout",
     "output_type": "stream",
     "text": [
      "Efficiency is:  0.0881\n",
      "CPU times: user 606 ms, sys: 31.2 ms, total: 638 ms\n",
      "Wall time: 623 ms\n"
     ]
    }
   ],
   "source": [
    "%%time\n",
    "#Row wise analysis\n",
    "muons_subset = muons[0:10000]\n",
    "events_pass = 0\n",
    "\n",
    "#Check each event for atleast one muon satisfying quality criteria\n",
    "for i, event in enumerate(muons_subset[\"pT\"]):\n",
    "    for j, muon_pT in enumerate(event):\n",
    "        if (muon_pT > 50) and (np.abs(muons[\"eta\"][i,j]) < 2.5):\n",
    "            events_pass += 1\n",
    "            break #go to next event when we find a good muon\n",
    "            \n",
    "efficiency = events_pass/len(muons_subset)\n",
    "print(\"Efficiency is: \", efficiency)"
   ]
  },
  {
   "cell_type": "markdown",
   "id": "58048986-1656-497f-94e4-3b77b6dd78a4",
   "metadata": {},
   "source": [
    "Now using awkward array to perform a columnar analysis of the problem:"
   ]
  },
  {
   "cell_type": "code",
   "execution_count": 10,
   "id": "27f774f1-c046-4bb2-9ff5-6fbda245dcef",
   "metadata": {},
   "outputs": [
    {
     "name": "stdout",
     "output_type": "stream",
     "text": [
      "Efficiency is:  0.0881\n",
      "CPU times: user 4.6 ms, sys: 0 ns, total: 4.6 ms\n",
      "Wall time: 4.32 ms\n"
     ]
    }
   ],
   "source": [
    "%%time\n",
    "#Columnar analysis\n",
    "selection = ak.any((muons_subset[\"pT\"] > 50) & (np.abs(muons_subset[\"eta\"]) < 2.5), axis = 1)\n",
    "muons_pass = muons_subset[selection]\n",
    "efficiency = len(muons_pass)/len(muons_subset)\n",
    "print(\"Efficiency is: \", efficiency)"
   ]
  },
  {
   "cell_type": "markdown",
   "id": "0c4b41c3-e569-427d-91ee-8634aaa4fbfa",
   "metadata": {},
   "source": [
    "You should see the runtime reduce from seconds to milliseconds representing a 100 fold reduction in runtime. Python for loops are extremely slow as memory is being accessed per loop iteration (here per muon per event). The awkward array syntax is more human readable and left us the object `muons_pass` which contains the events which satisfy this selection criteria.  "
   ]
  },
  {
   "cell_type": "markdown",
   "id": "098fdad9-7bce-42d4-91e9-d1ccf0020e5b",
   "metadata": {},
   "source": [
    "### Scale Factor Calculation"
   ]
  },
  {
   "cell_type": "code",
   "execution_count": null,
   "id": "1f248a4d-eca1-4359-ab83-83d0ced73bfc",
   "metadata": {},
   "outputs": [],
   "source": []
  }
 ],
 "metadata": {
  "kernelspec": {
   "display_name": "Python 3 (ipykernel)",
   "language": "python",
   "name": "python3"
  },
  "language_info": {
   "codemirror_mode": {
    "name": "ipython",
    "version": 3
   },
   "file_extension": ".py",
   "mimetype": "text/x-python",
   "name": "python",
   "nbconvert_exporter": "python",
   "pygments_lexer": "ipython3",
   "version": "3.8.10"
  }
 },
 "nbformat": 4,
 "nbformat_minor": 5
}
